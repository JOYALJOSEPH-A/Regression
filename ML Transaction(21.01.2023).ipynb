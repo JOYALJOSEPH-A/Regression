{
 "cells": [
  {
   "cell_type": "code",
   "execution_count": 1,
   "id": "96f7eefc",
   "metadata": {},
   "outputs": [],
   "source": [
    "import pandas as pd\n",
    "import numpy as np\n",
    "import matplotlib.pyplot as plt\n",
    "import seaborn as sns\n",
    "from sklearn.preprocessing import StandardScaler, LabelEncoder\n",
    "from sklearn.model_selection import train_test_split\n",
    "from sklearn.linear_model import LinearRegression,Lasso,Ridge\n",
    "from sklearn.ensemble import AdaBoostRegressor, GradientBoostingRegressor,RandomForestRegressor\n",
    "from sklearn.tree import DecisionTreeRegressor\n",
    "from sklearn.svm import SVR,LinearSVR\n",
    "from sklearn.metrics import r2_score,mean_absolute_error,mean_squared_error\n",
    "import warnings\n",
    "warnings.filterwarnings('ignore')"
   ]
  },
  {
   "cell_type": "code",
   "execution_count": 2,
   "id": "e59c97da",
   "metadata": {
    "scrolled": true
   },
   "outputs": [
    {
     "data": {
      "text/html": [
       "<div>\n",
       "<style scoped>\n",
       "    .dataframe tbody tr th:only-of-type {\n",
       "        vertical-align: middle;\n",
       "    }\n",
       "\n",
       "    .dataframe tbody tr th {\n",
       "        vertical-align: top;\n",
       "    }\n",
       "\n",
       "    .dataframe thead th {\n",
       "        text-align: right;\n",
       "    }\n",
       "</style>\n",
       "<table border=\"1\" class=\"dataframe\">\n",
       "  <thead>\n",
       "    <tr style=\"text-align: right;\">\n",
       "      <th></th>\n",
       "      <th>Unnamed: 0</th>\n",
       "      <th>Order Id</th>\n",
       "      <th>mobile</th>\n",
       "      <th>Amount</th>\n",
       "      <th>Credit Used</th>\n",
       "      <th>Status</th>\n",
       "      <th>Transid</th>\n",
       "      <th>Operator</th>\n",
       "      <th>Date</th>\n",
       "      <th>day</th>\n",
       "      <th>month</th>\n",
       "      <th>hour</th>\n",
       "      <th>minute</th>\n",
       "      <th>year</th>\n",
       "      <th>Profit</th>\n",
       "    </tr>\n",
       "  </thead>\n",
       "  <tbody>\n",
       "    <tr>\n",
       "      <th>0</th>\n",
       "      <td>0</td>\n",
       "      <td>9229923</td>\n",
       "      <td>9526140221</td>\n",
       "      <td>299.0</td>\n",
       "      <td>290.03</td>\n",
       "      <td>SUCCESS</td>\n",
       "      <td>RBR2201281632260048</td>\n",
       "      <td>Vodafone Idea</td>\n",
       "      <td>2022-01-28 16:32:40</td>\n",
       "      <td>28</td>\n",
       "      <td>1</td>\n",
       "      <td>16</td>\n",
       "      <td>32</td>\n",
       "      <td>2022</td>\n",
       "      <td>8.97</td>\n",
       "    </tr>\n",
       "    <tr>\n",
       "      <th>1</th>\n",
       "      <td>1</td>\n",
       "      <td>9227282</td>\n",
       "      <td>9946378150</td>\n",
       "      <td>49.0</td>\n",
       "      <td>47.53</td>\n",
       "      <td>SUCCESS</td>\n",
       "      <td>BRR2201281243220028</td>\n",
       "      <td>Vodafone Idea</td>\n",
       "      <td>2022-01-28 12:43:16</td>\n",
       "      <td>28</td>\n",
       "      <td>1</td>\n",
       "      <td>12</td>\n",
       "      <td>43</td>\n",
       "      <td>2022</td>\n",
       "      <td>1.47</td>\n",
       "    </tr>\n",
       "    <tr>\n",
       "      <th>2</th>\n",
       "      <td>2</td>\n",
       "      <td>9218780</td>\n",
       "      <td>8111868204</td>\n",
       "      <td>299.0</td>\n",
       "      <td>290.03</td>\n",
       "      <td>SUCCESS</td>\n",
       "      <td>RBR2201271746310079</td>\n",
       "      <td>Vodafone Idea</td>\n",
       "      <td>2022-01-27 17:46:42</td>\n",
       "      <td>27</td>\n",
       "      <td>1</td>\n",
       "      <td>17</td>\n",
       "      <td>46</td>\n",
       "      <td>2022</td>\n",
       "      <td>8.97</td>\n",
       "    </tr>\n",
       "    <tr>\n",
       "      <th>3</th>\n",
       "      <td>3</td>\n",
       "      <td>9203686</td>\n",
       "      <td>10236340203</td>\n",
       "      <td>229.0</td>\n",
       "      <td>222.13</td>\n",
       "      <td>SUCCESS</td>\n",
       "      <td>338548566</td>\n",
       "      <td>Sun Dth</td>\n",
       "      <td>2022-01-26 15:20:39</td>\n",
       "      <td>26</td>\n",
       "      <td>1</td>\n",
       "      <td>15</td>\n",
       "      <td>20</td>\n",
       "      <td>2022</td>\n",
       "      <td>6.87</td>\n",
       "    </tr>\n",
       "    <tr>\n",
       "      <th>4</th>\n",
       "      <td>4</td>\n",
       "      <td>9187282</td>\n",
       "      <td>9656272617</td>\n",
       "      <td>179.0</td>\n",
       "      <td>173.63</td>\n",
       "      <td>SUCCESS</td>\n",
       "      <td>MHR2201251118270020</td>\n",
       "      <td>Vodafone Idea</td>\n",
       "      <td>2022-01-25 11:18:01</td>\n",
       "      <td>25</td>\n",
       "      <td>1</td>\n",
       "      <td>11</td>\n",
       "      <td>18</td>\n",
       "      <td>2022</td>\n",
       "      <td>5.37</td>\n",
       "    </tr>\n",
       "    <tr>\n",
       "      <th>...</th>\n",
       "      <td>...</td>\n",
       "      <td>...</td>\n",
       "      <td>...</td>\n",
       "      <td>...</td>\n",
       "      <td>...</td>\n",
       "      <td>...</td>\n",
       "      <td>...</td>\n",
       "      <td>...</td>\n",
       "      <td>...</td>\n",
       "      <td>...</td>\n",
       "      <td>...</td>\n",
       "      <td>...</td>\n",
       "      <td>...</td>\n",
       "      <td>...</td>\n",
       "      <td>...</td>\n",
       "    </tr>\n",
       "    <tr>\n",
       "      <th>79</th>\n",
       "      <td>6</td>\n",
       "      <td>13893025</td>\n",
       "      <td>165160065</td>\n",
       "      <td>240.0</td>\n",
       "      <td>232.80</td>\n",
       "      <td>SUCCESS</td>\n",
       "      <td>WREC172182350JESSYJ</td>\n",
       "      <td>Videocon Dth</td>\n",
       "      <td>2023-04-20 20:24:19</td>\n",
       "      <td>20</td>\n",
       "      <td>4</td>\n",
       "      <td>20</td>\n",
       "      <td>24</td>\n",
       "      <td>2023</td>\n",
       "      <td>7.20</td>\n",
       "    </tr>\n",
       "    <tr>\n",
       "      <th>80</th>\n",
       "      <td>7</td>\n",
       "      <td>13851722</td>\n",
       "      <td>9446121275</td>\n",
       "      <td>319.0</td>\n",
       "      <td>309.43</td>\n",
       "      <td>SUCCESS</td>\n",
       "      <td>7580357849</td>\n",
       "      <td>Bsnl Special</td>\n",
       "      <td>2023-04-14 22:53:10</td>\n",
       "      <td>14</td>\n",
       "      <td>4</td>\n",
       "      <td>22</td>\n",
       "      <td>53</td>\n",
       "      <td>2023</td>\n",
       "      <td>9.57</td>\n",
       "    </tr>\n",
       "    <tr>\n",
       "      <th>81</th>\n",
       "      <td>8</td>\n",
       "      <td>13819094</td>\n",
       "      <td>9645587576</td>\n",
       "      <td>153.0</td>\n",
       "      <td>148.41</td>\n",
       "      <td>SUCCESS</td>\n",
       "      <td>7572233584</td>\n",
       "      <td>Bsnl Special</td>\n",
       "      <td>2023-04-10 15:54:03</td>\n",
       "      <td>10</td>\n",
       "      <td>4</td>\n",
       "      <td>15</td>\n",
       "      <td>54</td>\n",
       "      <td>2023</td>\n",
       "      <td>4.59</td>\n",
       "    </tr>\n",
       "    <tr>\n",
       "      <th>82</th>\n",
       "      <td>9</td>\n",
       "      <td>13819078</td>\n",
       "      <td>75291432450</td>\n",
       "      <td>229.0</td>\n",
       "      <td>222.13</td>\n",
       "      <td>SUCCESS</td>\n",
       "      <td>21995247MADHU</td>\n",
       "      <td>Sun Dth</td>\n",
       "      <td>2023-04-10 15:49:51</td>\n",
       "      <td>10</td>\n",
       "      <td>4</td>\n",
       "      <td>15</td>\n",
       "      <td>49</td>\n",
       "      <td>2023</td>\n",
       "      <td>6.87</td>\n",
       "    </tr>\n",
       "    <tr>\n",
       "      <th>83</th>\n",
       "      <td>10</td>\n",
       "      <td>13777296</td>\n",
       "      <td>75233225715</td>\n",
       "      <td>249.0</td>\n",
       "      <td>241.53</td>\n",
       "      <td>SUCCESS</td>\n",
       "      <td>DBSN2346847E15</td>\n",
       "      <td>Sun Dth</td>\n",
       "      <td>2023-04-04 20:48:00</td>\n",
       "      <td>4</td>\n",
       "      <td>4</td>\n",
       "      <td>20</td>\n",
       "      <td>48</td>\n",
       "      <td>2023</td>\n",
       "      <td>7.47</td>\n",
       "    </tr>\n",
       "  </tbody>\n",
       "</table>\n",
       "<p>84 rows × 15 columns</p>\n",
       "</div>"
      ],
      "text/plain": [
       "    Unnamed: 0  Order Id       mobile  Amount  Credit Used   Status  \\\n",
       "0            0   9229923   9526140221   299.0       290.03  SUCCESS   \n",
       "1            1   9227282   9946378150    49.0        47.53  SUCCESS   \n",
       "2            2   9218780   8111868204   299.0       290.03  SUCCESS   \n",
       "3            3   9203686  10236340203   229.0       222.13  SUCCESS   \n",
       "4            4   9187282   9656272617   179.0       173.63  SUCCESS   \n",
       "..         ...       ...          ...     ...          ...      ...   \n",
       "79           6  13893025    165160065   240.0       232.80  SUCCESS   \n",
       "80           7  13851722   9446121275   319.0       309.43  SUCCESS   \n",
       "81           8  13819094   9645587576   153.0       148.41  SUCCESS   \n",
       "82           9  13819078  75291432450   229.0       222.13  SUCCESS   \n",
       "83          10  13777296  75233225715   249.0       241.53  SUCCESS   \n",
       "\n",
       "                Transid       Operator                 Date  day  month  hour  \\\n",
       "0   RBR2201281632260048  Vodafone Idea  2022-01-28 16:32:40   28      1    16   \n",
       "1   BRR2201281243220028  Vodafone Idea  2022-01-28 12:43:16   28      1    12   \n",
       "2   RBR2201271746310079  Vodafone Idea  2022-01-27 17:46:42   27      1    17   \n",
       "3             338548566        Sun Dth  2022-01-26 15:20:39   26      1    15   \n",
       "4   MHR2201251118270020  Vodafone Idea  2022-01-25 11:18:01   25      1    11   \n",
       "..                  ...            ...                  ...  ...    ...   ...   \n",
       "79  WREC172182350JESSYJ   Videocon Dth  2023-04-20 20:24:19   20      4    20   \n",
       "80           7580357849   Bsnl Special  2023-04-14 22:53:10   14      4    22   \n",
       "81           7572233584   Bsnl Special  2023-04-10 15:54:03   10      4    15   \n",
       "82        21995247MADHU        Sun Dth  2023-04-10 15:49:51   10      4    15   \n",
       "83       DBSN2346847E15        Sun Dth  2023-04-04 20:48:00    4      4    20   \n",
       "\n",
       "    minute  year  Profit  \n",
       "0       32  2022    8.97  \n",
       "1       43  2022    1.47  \n",
       "2       46  2022    8.97  \n",
       "3       20  2022    6.87  \n",
       "4       18  2022    5.37  \n",
       "..     ...   ...     ...  \n",
       "79      24  2023    7.20  \n",
       "80      53  2023    9.57  \n",
       "81      54  2023    4.59  \n",
       "82      49  2023    6.87  \n",
       "83      48  2023    7.47  \n",
       "\n",
       "[84 rows x 15 columns]"
      ]
     },
     "execution_count": 2,
     "metadata": {},
     "output_type": "execute_result"
    }
   ],
   "source": [
    "df = pd.read_csv('./Transaction1.csv')\n",
    "df"
   ]
  },
  {
   "cell_type": "code",
   "execution_count": 3,
   "id": "d2b9ff1d",
   "metadata": {},
   "outputs": [
    {
     "data": {
      "text/plain": [
       "Unnamed: 0     0\n",
       "Order Id       0\n",
       "mobile         0\n",
       "Amount         0\n",
       "Credit Used    0\n",
       "Status         0\n",
       "Transid        0\n",
       "Operator       0\n",
       "Date           0\n",
       "day            0\n",
       "month          0\n",
       "hour           0\n",
       "minute         0\n",
       "year           0\n",
       "Profit         0\n",
       "dtype: int64"
      ]
     },
     "execution_count": 3,
     "metadata": {},
     "output_type": "execute_result"
    }
   ],
   "source": [
    "df.isnull().sum()"
   ]
  },
  {
   "cell_type": "code",
   "execution_count": 4,
   "id": "afa48cb5",
   "metadata": {},
   "outputs": [
    {
     "data": {
      "text/plain": [
       "0"
      ]
     },
     "execution_count": 4,
     "metadata": {},
     "output_type": "execute_result"
    }
   ],
   "source": [
    "df.duplicated().sum()"
   ]
  },
  {
   "cell_type": "code",
   "execution_count": 5,
   "id": "6838e5be",
   "metadata": {},
   "outputs": [],
   "source": [
    "lb = LabelEncoder()"
   ]
  },
  {
   "cell_type": "code",
   "execution_count": 6,
   "id": "2f8e1203",
   "metadata": {},
   "outputs": [],
   "source": [
    "df['Operator'] = lb.fit_transform(df['Operator'])"
   ]
  },
  {
   "cell_type": "code",
   "execution_count": 7,
   "id": "3d8cd379",
   "metadata": {
    "scrolled": true
   },
   "outputs": [
    {
     "data": {
      "text/html": [
       "<div>\n",
       "<style scoped>\n",
       "    .dataframe tbody tr th:only-of-type {\n",
       "        vertical-align: middle;\n",
       "    }\n",
       "\n",
       "    .dataframe tbody tr th {\n",
       "        vertical-align: top;\n",
       "    }\n",
       "\n",
       "    .dataframe thead th {\n",
       "        text-align: right;\n",
       "    }\n",
       "</style>\n",
       "<table border=\"1\" class=\"dataframe\">\n",
       "  <thead>\n",
       "    <tr style=\"text-align: right;\">\n",
       "      <th></th>\n",
       "      <th>Unnamed: 0</th>\n",
       "      <th>Order Id</th>\n",
       "      <th>mobile</th>\n",
       "      <th>Amount</th>\n",
       "      <th>Credit Used</th>\n",
       "      <th>Status</th>\n",
       "      <th>Transid</th>\n",
       "      <th>Operator</th>\n",
       "      <th>Date</th>\n",
       "      <th>day</th>\n",
       "      <th>month</th>\n",
       "      <th>hour</th>\n",
       "      <th>minute</th>\n",
       "      <th>year</th>\n",
       "      <th>Profit</th>\n",
       "    </tr>\n",
       "  </thead>\n",
       "  <tbody>\n",
       "    <tr>\n",
       "      <th>0</th>\n",
       "      <td>0</td>\n",
       "      <td>9229923</td>\n",
       "      <td>9526140221</td>\n",
       "      <td>299.0</td>\n",
       "      <td>290.03</td>\n",
       "      <td>SUCCESS</td>\n",
       "      <td>RBR2201281632260048</td>\n",
       "      <td>8</td>\n",
       "      <td>2022-01-28 16:32:40</td>\n",
       "      <td>28</td>\n",
       "      <td>1</td>\n",
       "      <td>16</td>\n",
       "      <td>32</td>\n",
       "      <td>2022</td>\n",
       "      <td>8.97</td>\n",
       "    </tr>\n",
       "    <tr>\n",
       "      <th>1</th>\n",
       "      <td>1</td>\n",
       "      <td>9227282</td>\n",
       "      <td>9946378150</td>\n",
       "      <td>49.0</td>\n",
       "      <td>47.53</td>\n",
       "      <td>SUCCESS</td>\n",
       "      <td>BRR2201281243220028</td>\n",
       "      <td>8</td>\n",
       "      <td>2022-01-28 12:43:16</td>\n",
       "      <td>28</td>\n",
       "      <td>1</td>\n",
       "      <td>12</td>\n",
       "      <td>43</td>\n",
       "      <td>2022</td>\n",
       "      <td>1.47</td>\n",
       "    </tr>\n",
       "    <tr>\n",
       "      <th>2</th>\n",
       "      <td>2</td>\n",
       "      <td>9218780</td>\n",
       "      <td>8111868204</td>\n",
       "      <td>299.0</td>\n",
       "      <td>290.03</td>\n",
       "      <td>SUCCESS</td>\n",
       "      <td>RBR2201271746310079</td>\n",
       "      <td>8</td>\n",
       "      <td>2022-01-27 17:46:42</td>\n",
       "      <td>27</td>\n",
       "      <td>1</td>\n",
       "      <td>17</td>\n",
       "      <td>46</td>\n",
       "      <td>2022</td>\n",
       "      <td>8.97</td>\n",
       "    </tr>\n",
       "    <tr>\n",
       "      <th>3</th>\n",
       "      <td>3</td>\n",
       "      <td>9203686</td>\n",
       "      <td>10236340203</td>\n",
       "      <td>229.0</td>\n",
       "      <td>222.13</td>\n",
       "      <td>SUCCESS</td>\n",
       "      <td>338548566</td>\n",
       "      <td>6</td>\n",
       "      <td>2022-01-26 15:20:39</td>\n",
       "      <td>26</td>\n",
       "      <td>1</td>\n",
       "      <td>15</td>\n",
       "      <td>20</td>\n",
       "      <td>2022</td>\n",
       "      <td>6.87</td>\n",
       "    </tr>\n",
       "    <tr>\n",
       "      <th>4</th>\n",
       "      <td>4</td>\n",
       "      <td>9187282</td>\n",
       "      <td>9656272617</td>\n",
       "      <td>179.0</td>\n",
       "      <td>173.63</td>\n",
       "      <td>SUCCESS</td>\n",
       "      <td>MHR2201251118270020</td>\n",
       "      <td>8</td>\n",
       "      <td>2022-01-25 11:18:01</td>\n",
       "      <td>25</td>\n",
       "      <td>1</td>\n",
       "      <td>11</td>\n",
       "      <td>18</td>\n",
       "      <td>2022</td>\n",
       "      <td>5.37</td>\n",
       "    </tr>\n",
       "    <tr>\n",
       "      <th>...</th>\n",
       "      <td>...</td>\n",
       "      <td>...</td>\n",
       "      <td>...</td>\n",
       "      <td>...</td>\n",
       "      <td>...</td>\n",
       "      <td>...</td>\n",
       "      <td>...</td>\n",
       "      <td>...</td>\n",
       "      <td>...</td>\n",
       "      <td>...</td>\n",
       "      <td>...</td>\n",
       "      <td>...</td>\n",
       "      <td>...</td>\n",
       "      <td>...</td>\n",
       "      <td>...</td>\n",
       "    </tr>\n",
       "    <tr>\n",
       "      <th>79</th>\n",
       "      <td>6</td>\n",
       "      <td>13893025</td>\n",
       "      <td>165160065</td>\n",
       "      <td>240.0</td>\n",
       "      <td>232.80</td>\n",
       "      <td>SUCCESS</td>\n",
       "      <td>WREC172182350JESSYJ</td>\n",
       "      <td>7</td>\n",
       "      <td>2023-04-20 20:24:19</td>\n",
       "      <td>20</td>\n",
       "      <td>4</td>\n",
       "      <td>20</td>\n",
       "      <td>24</td>\n",
       "      <td>2023</td>\n",
       "      <td>7.20</td>\n",
       "    </tr>\n",
       "    <tr>\n",
       "      <th>80</th>\n",
       "      <td>7</td>\n",
       "      <td>13851722</td>\n",
       "      <td>9446121275</td>\n",
       "      <td>319.0</td>\n",
       "      <td>309.43</td>\n",
       "      <td>SUCCESS</td>\n",
       "      <td>7580357849</td>\n",
       "      <td>2</td>\n",
       "      <td>2023-04-14 22:53:10</td>\n",
       "      <td>14</td>\n",
       "      <td>4</td>\n",
       "      <td>22</td>\n",
       "      <td>53</td>\n",
       "      <td>2023</td>\n",
       "      <td>9.57</td>\n",
       "    </tr>\n",
       "    <tr>\n",
       "      <th>81</th>\n",
       "      <td>8</td>\n",
       "      <td>13819094</td>\n",
       "      <td>9645587576</td>\n",
       "      <td>153.0</td>\n",
       "      <td>148.41</td>\n",
       "      <td>SUCCESS</td>\n",
       "      <td>7572233584</td>\n",
       "      <td>2</td>\n",
       "      <td>2023-04-10 15:54:03</td>\n",
       "      <td>10</td>\n",
       "      <td>4</td>\n",
       "      <td>15</td>\n",
       "      <td>54</td>\n",
       "      <td>2023</td>\n",
       "      <td>4.59</td>\n",
       "    </tr>\n",
       "    <tr>\n",
       "      <th>82</th>\n",
       "      <td>9</td>\n",
       "      <td>13819078</td>\n",
       "      <td>75291432450</td>\n",
       "      <td>229.0</td>\n",
       "      <td>222.13</td>\n",
       "      <td>SUCCESS</td>\n",
       "      <td>21995247MADHU</td>\n",
       "      <td>6</td>\n",
       "      <td>2023-04-10 15:49:51</td>\n",
       "      <td>10</td>\n",
       "      <td>4</td>\n",
       "      <td>15</td>\n",
       "      <td>49</td>\n",
       "      <td>2023</td>\n",
       "      <td>6.87</td>\n",
       "    </tr>\n",
       "    <tr>\n",
       "      <th>83</th>\n",
       "      <td>10</td>\n",
       "      <td>13777296</td>\n",
       "      <td>75233225715</td>\n",
       "      <td>249.0</td>\n",
       "      <td>241.53</td>\n",
       "      <td>SUCCESS</td>\n",
       "      <td>DBSN2346847E15</td>\n",
       "      <td>6</td>\n",
       "      <td>2023-04-04 20:48:00</td>\n",
       "      <td>4</td>\n",
       "      <td>4</td>\n",
       "      <td>20</td>\n",
       "      <td>48</td>\n",
       "      <td>2023</td>\n",
       "      <td>7.47</td>\n",
       "    </tr>\n",
       "  </tbody>\n",
       "</table>\n",
       "<p>84 rows × 15 columns</p>\n",
       "</div>"
      ],
      "text/plain": [
       "    Unnamed: 0  Order Id       mobile  Amount  Credit Used   Status  \\\n",
       "0            0   9229923   9526140221   299.0       290.03  SUCCESS   \n",
       "1            1   9227282   9946378150    49.0        47.53  SUCCESS   \n",
       "2            2   9218780   8111868204   299.0       290.03  SUCCESS   \n",
       "3            3   9203686  10236340203   229.0       222.13  SUCCESS   \n",
       "4            4   9187282   9656272617   179.0       173.63  SUCCESS   \n",
       "..         ...       ...          ...     ...          ...      ...   \n",
       "79           6  13893025    165160065   240.0       232.80  SUCCESS   \n",
       "80           7  13851722   9446121275   319.0       309.43  SUCCESS   \n",
       "81           8  13819094   9645587576   153.0       148.41  SUCCESS   \n",
       "82           9  13819078  75291432450   229.0       222.13  SUCCESS   \n",
       "83          10  13777296  75233225715   249.0       241.53  SUCCESS   \n",
       "\n",
       "                Transid  Operator                 Date  day  month  hour  \\\n",
       "0   RBR2201281632260048         8  2022-01-28 16:32:40   28      1    16   \n",
       "1   BRR2201281243220028         8  2022-01-28 12:43:16   28      1    12   \n",
       "2   RBR2201271746310079         8  2022-01-27 17:46:42   27      1    17   \n",
       "3             338548566         6  2022-01-26 15:20:39   26      1    15   \n",
       "4   MHR2201251118270020         8  2022-01-25 11:18:01   25      1    11   \n",
       "..                  ...       ...                  ...  ...    ...   ...   \n",
       "79  WREC172182350JESSYJ         7  2023-04-20 20:24:19   20      4    20   \n",
       "80           7580357849         2  2023-04-14 22:53:10   14      4    22   \n",
       "81           7572233584         2  2023-04-10 15:54:03   10      4    15   \n",
       "82        21995247MADHU         6  2023-04-10 15:49:51   10      4    15   \n",
       "83       DBSN2346847E15         6  2023-04-04 20:48:00    4      4    20   \n",
       "\n",
       "    minute  year  Profit  \n",
       "0       32  2022    8.97  \n",
       "1       43  2022    1.47  \n",
       "2       46  2022    8.97  \n",
       "3       20  2022    6.87  \n",
       "4       18  2022    5.37  \n",
       "..     ...   ...     ...  \n",
       "79      24  2023    7.20  \n",
       "80      53  2023    9.57  \n",
       "81      54  2023    4.59  \n",
       "82      49  2023    6.87  \n",
       "83      48  2023    7.47  \n",
       "\n",
       "[84 rows x 15 columns]"
      ]
     },
     "execution_count": 7,
     "metadata": {},
     "output_type": "execute_result"
    }
   ],
   "source": [
    "df"
   ]
  },
  {
   "cell_type": "code",
   "execution_count": 8,
   "id": "f9721781",
   "metadata": {},
   "outputs": [
    {
     "data": {
      "image/png": "[encoded data removed]",
      "text/plain": [
       "<Figure size 1000x600 with 2 Axes>"
      ]
     },
     "metadata": {},
     "output_type": "display_data"
    }
   ],
   "source": [
    "plt.figure(figsize=(10,6))\n",
    "sns.heatmap(df.corr()[['Profit']].sort_values(by='Profit',ascending=False),vmin=-1,annot=True)\n",
    "plt.show()"
   ]
  },
  {
   "cell_type": "code",
   "execution_count": 9,
   "id": "d93b2242",
   "metadata": {},
   "outputs": [
    {
     "data": {
      "text/html": [
       "<div>\n",
       "<style scoped>\n",
       "    .dataframe tbody tr th:only-of-type {\n",
       "        vertical-align: middle;\n",
       "    }\n",
       "\n",
       "    .dataframe tbody tr th {\n",
       "        vertical-align: top;\n",
       "    }\n",
       "\n",
       "    .dataframe thead th {\n",
       "        text-align: right;\n",
       "    }\n",
       "</style>\n",
       "<table border=\"1\" class=\"dataframe\">\n",
       "  <thead>\n",
       "    <tr style=\"text-align: right;\">\n",
       "      <th></th>\n",
       "      <th>Amount</th>\n",
       "      <th>Operator</th>\n",
       "      <th>Profit</th>\n",
       "    </tr>\n",
       "  </thead>\n",
       "  <tbody>\n",
       "    <tr>\n",
       "      <th>0</th>\n",
       "      <td>299.0</td>\n",
       "      <td>8</td>\n",
       "      <td>8.97</td>\n",
       "    </tr>\n",
       "    <tr>\n",
       "      <th>1</th>\n",
       "      <td>49.0</td>\n",
       "      <td>8</td>\n",
       "      <td>1.47</td>\n",
       "    </tr>\n",
       "    <tr>\n",
       "      <th>2</th>\n",
       "      <td>299.0</td>\n",
       "      <td>8</td>\n",
       "      <td>8.97</td>\n",
       "    </tr>\n",
       "    <tr>\n",
       "      <th>3</th>\n",
       "      <td>229.0</td>\n",
       "      <td>6</td>\n",
       "      <td>6.87</td>\n",
       "    </tr>\n",
       "    <tr>\n",
       "      <th>4</th>\n",
       "      <td>179.0</td>\n",
       "      <td>8</td>\n",
       "      <td>5.37</td>\n",
       "    </tr>\n",
       "    <tr>\n",
       "      <th>...</th>\n",
       "      <td>...</td>\n",
       "      <td>...</td>\n",
       "      <td>...</td>\n",
       "    </tr>\n",
       "    <tr>\n",
       "      <th>79</th>\n",
       "      <td>240.0</td>\n",
       "      <td>7</td>\n",
       "      <td>7.20</td>\n",
       "    </tr>\n",
       "    <tr>\n",
       "      <th>80</th>\n",
       "      <td>319.0</td>\n",
       "      <td>2</td>\n",
       "      <td>9.57</td>\n",
       "    </tr>\n",
       "    <tr>\n",
       "      <th>81</th>\n",
       "      <td>153.0</td>\n",
       "      <td>2</td>\n",
       "      <td>4.59</td>\n",
       "    </tr>\n",
       "    <tr>\n",
       "      <th>82</th>\n",
       "      <td>229.0</td>\n",
       "      <td>6</td>\n",
       "      <td>6.87</td>\n",
       "    </tr>\n",
       "    <tr>\n",
       "      <th>83</th>\n",
       "      <td>249.0</td>\n",
       "      <td>6</td>\n",
       "      <td>7.47</td>\n",
       "    </tr>\n",
       "  </tbody>\n",
       "</table>\n",
       "<p>84 rows × 3 columns</p>\n",
       "</div>"
      ],
      "text/plain": [
       "    Amount  Operator  Profit\n",
       "0    299.0         8    8.97\n",
       "1     49.0         8    1.47\n",
       "2    299.0         8    8.97\n",
       "3    229.0         6    6.87\n",
       "4    179.0         8    5.37\n",
       "..     ...       ...     ...\n",
       "79   240.0         7    7.20\n",
       "80   319.0         2    9.57\n",
       "81   153.0         2    4.59\n",
       "82   229.0         6    6.87\n",
       "83   249.0         6    7.47\n",
       "\n",
       "[84 rows x 3 columns]"
      ]
     },
     "execution_count": 9,
     "metadata": {},
     "output_type": "execute_result"
    }
   ],
   "source": [
    "df = df[['Amount','Operator','Profit']]\n",
    "df"
   ]
  },
  {
   "cell_type": "code",
   "execution_count": 10,
   "id": "147b0bc2",
   "metadata": {},
   "outputs": [
    {
     "data": {
      "image/png": "[encoded data removed]",
      "text/plain": [
       "<Figure size 640x480 with 1 Axes>"
      ]
     },
     "metadata": {},
     "output_type": "display_data"
    },
    {
     "data": {
      "image/png": "[encoded data removed]",
      "text/plain": [
       "<Figure size 640x480 with 1 Axes>"
      ]
     },
     "metadata": {},
     "output_type": "display_data"
    },
    {
     "data": {
      "image/png": "[encoded data removed]",
      "text/plain": [
       "<Figure size 640x480 with 1 Axes>"
      ]
     },
     "metadata": {},
     "output_type": "display_data"
    }
   ],
   "source": [
    "for i in df.columns:\n",
    "    sns.boxplot(data=df,y=df[i])\n",
    "    plt.show()"
   ]
  },
  {
   "cell_type": "code",
   "execution_count": 11,
   "id": "09350080",
   "metadata": {},
   "outputs": [],
   "source": [
    "def outlier_treat(col):\n",
    "    Q3,Q1 = np.nanpercentile(col,[75,25])\n",
    "    IQR = Q3-Q1\n",
    "    UL = Q3+1.5*IQR\n",
    "    LL = Q1-1.5*IQR\n",
    "    return UL,LL"
   ]
  },
  {
   "cell_type": "code",
   "execution_count": 12,
   "id": "0c98f14a",
   "metadata": {},
   "outputs": [],
   "source": [
    "for i in df.columns:\n",
    "    UL,LL = outlier_treat(df[i])\n",
    "    df[i] = np.where((df[i]>UL) | (df[i]<LL),np.nan,df[i])"
   ]
  },
  {
   "cell_type": "code",
   "execution_count": 13,
   "id": "3a2cf651",
   "metadata": {},
   "outputs": [
    {
     "data": {
      "image/png": "[encoded data removed]",
      "text/plain": [
       "<Figure size 640x480 with 1 Axes>"
      ]
     },
     "metadata": {},
     "output_type": "display_data"
    },
    {
     "data": {
      "image/png": "[encoded data removed]",
      "text/plain": [
       "<Figure size 640x480 with 1 Axes>"
      ]
     },
     "metadata": {},
     "output_type": "display_data"
    },
    {
     "data": {
      "image/png": "[encoded data removed]",
      "text/plain": [
       "<Figure size 640x480 with 1 Axes>"
      ]
     },
     "metadata": {},
     "output_type": "display_data"
    }
   ],
   "source": [
    "for i in df.columns:\n",
    "    sns.boxplot(data=df,y=df[i])\n",
    "    plt.show()"
   ]
  },
  {
   "cell_type": "code",
   "execution_count": 14,
   "id": "7f248979",
   "metadata": {},
   "outputs": [
    {
     "data": {
      "image/png": "[encoded data removed]",
      "text/plain": [
       "<Figure size 640x480 with 2 Axes>"
      ]
     },
     "metadata": {},
     "output_type": "display_data"
    }
   ],
   "source": [
    "sns.heatmap(df.corr()[['Profit']].sort_values(by='Profit',ascending=False),vmin=-1,annot=True)\n",
    "plt.show()"
   ]
  },
  {
   "cell_type": "code",
   "execution_count": 15,
   "id": "4432fc82",
   "metadata": {},
   "outputs": [],
   "source": [
    "df.dropna(inplace=True)"
   ]
  },
  {
   "cell_type": "code",
   "execution_count": 16,
   "id": "b35f079f",
   "metadata": {},
   "outputs": [],
   "source": [
    "x = df.iloc[:,:-1].values\n",
    "y = df.iloc[:,-1].values"
   ]
  },
  {
   "cell_type": "markdown",
   "id": "d7387522",
   "metadata": {},
   "source": [
    "### splitting the data"
   ]
  },
  {
   "cell_type": "code",
   "execution_count": 17,
   "id": "f2220b04",
   "metadata": {},
   "outputs": [],
   "source": [
    "x_train,x_test,y_train,y_test = train_test_split(x,y,test_size=0.2,random_state=50,shuffle=True)"
   ]
  },
  {
   "cell_type": "markdown",
   "id": "6949e0b1",
   "metadata": {},
   "source": [
    "### Feature scaling"
   ]
  },
  {
   "cell_type": "code",
   "execution_count": 18,
   "id": "f5f53da5",
   "metadata": {},
   "outputs": [],
   "source": [
    "sc = StandardScaler()"
   ]
  },
  {
   "cell_type": "code",
   "execution_count": 19,
   "id": "5315fe27",
   "metadata": {},
   "outputs": [],
   "source": [
    "x_train = sc.fit_transform(x_train)\n",
    "x_test = sc.transform(x_test)"
   ]
  },
  {
   "cell_type": "code",
   "execution_count": 78,
   "id": "9e2318aa",
   "metadata": {},
   "outputs": [
    {
     "data": {
      "text/plain": [
       "array([[-1.80125313, -1.51075716],\n",
       "       [ 1.26596303,  0.71491187],\n",
       "       [ 0.50995905, -0.76886748],\n",
       "       [ 1.56836463,  0.71491187],\n",
       "       [-1.7580529 ,  0.71491187],\n",
       "       [ 1.16876252, -2.99453651],\n",
       "       [-0.89404835,  0.71491187],\n",
       "       [ 0.50995905, -0.76886748],\n",
       "       [-0.89404835,  0.71491187],\n",
       "       [ 0.50995905, -0.76886748],\n",
       "       [ 0.50995905, -0.76886748],\n",
       "       [ 0.18595734,  0.71491187],\n",
       "       [ 0.50995905, -0.76886748],\n",
       "       [ 0.40195848,  0.71491187],\n",
       "       [ 0.50995905, -0.76886748],\n",
       "       [ 0.40195848,  0.71491187],\n",
       "       [-1.11004949,  0.71491187],\n",
       "       [ 0.50995905, -0.76886748],\n",
       "       [ 0.08875683, -0.02697781],\n",
       "       [-0.03004379,  0.71491187],\n",
       "       [-1.85525341,  0.71491187],\n",
       "       [-0.3540455 ,  0.71491187],\n",
       "       [-0.66724715, -0.02697781],\n",
       "       [ 0.18595734,  0.71491187],\n",
       "       [ 2.61597015, -2.25264683],\n",
       "       [-1.7580529 ,  0.71491187],\n",
       "       [-1.33685068,  0.71491187],\n",
       "       [-0.3540455 ,  0.71491187],\n",
       "       [ 1.26596303,  0.71491187],\n",
       "       [ 0.62875968, -0.76886748],\n",
       "       [ 0.62875968, -0.02697781],\n",
       "       [ 0.50995905, -0.76886748],\n",
       "       [-0.89404835,  0.71491187],\n",
       "       [ 1.26596303,  0.71491187],\n",
       "       [-0.68884727,  0.71491187],\n",
       "       [-1.7580529 ,  0.71491187],\n",
       "       [ 0.50995905, -0.76886748],\n",
       "       [-0.89404835,  0.71491187],\n",
       "       [-0.03004379,  0.71491187],\n",
       "       [-1.11004949,  0.71491187],\n",
       "       [ 0.09955689, -0.02697781],\n",
       "       [-0.03004379,  0.71491187],\n",
       "       [-1.54205176,  0.71491187],\n",
       "       [ 0.50995905, -0.76886748],\n",
       "       [-1.43405119,  0.71491187],\n",
       "       [ 1.15796247, -2.99453651],\n",
       "       [ 0.79076053, -2.25264683],\n",
       "       [ 1.26596303,  0.71491187],\n",
       "       [ 0.72596019,  0.71491187],\n",
       "       [ 0.50995905, -0.76886748],\n",
       "       [ 0.50995905, -0.76886748],\n",
       "       [-0.03004379,  0.71491187],\n",
       "       [ 0.85556087, -0.76886748],\n",
       "       [-1.11004949,  0.71491187],\n",
       "       [-0.3540455 ,  0.71491187]])"
      ]
     },
     "execution_count": 78,
     "metadata": {},
     "output_type": "execute_result"
    }
   ],
   "source": [
    "x_train"
   ]
  },
  {
   "cell_type": "code",
   "execution_count": 77,
   "id": "8c319b3e",
   "metadata": {},
   "outputs": [
    {
     "data": {
      "text/plain": [
       "array([[ 0.62875968, -0.02697781],\n",
       "       [ 0.61795962,  0.71491187],\n",
       "       [ 0.50995905, -0.76886748],\n",
       "       [ 1.26596303,  0.71491187],\n",
       "       [-1.11004949,  0.71491187],\n",
       "       [ 0.61795962, -0.02697781],\n",
       "       [-1.7580529 ,  0.71491187],\n",
       "       [-0.03004379,  0.71491187],\n",
       "       [-1.43405119,  0.71491187],\n",
       "       [-0.03004379,  0.71491187],\n",
       "       [ 0.72596019, -0.76886748],\n",
       "       [ 0.18595734,  0.71491187],\n",
       "       [ 1.16876252, -2.99453651],\n",
       "       [ 0.72596019,  0.71491187]])"
      ]
     },
     "execution_count": 77,
     "metadata": {},
     "output_type": "execute_result"
    }
   ],
   "source": [
    "x_test"
   ]
  },
  {
   "cell_type": "markdown",
   "id": "fd588eee",
   "metadata": {},
   "source": [
    "### Model building`"
   ]
  },
  {
   "cell_type": "markdown",
   "id": "ff722b08",
   "metadata": {},
   "source": [
    "##### fitting the model with training data"
   ]
  },
  {
   "cell_type": "code",
   "execution_count": 20,
   "id": "eafe6050",
   "metadata": {},
   "outputs": [],
   "source": [
    "model = RandomForestRegressor()"
   ]
  },
  {
   "cell_type": "code",
   "execution_count": 21,
   "id": "b564e514",
   "metadata": {},
   "outputs": [
    {
     "data": {
      "text/html": [
       "<style>#sk-container-id-1 {color: black;background-color: white;}#sk-container-id-1 pre{padding: 0;}#sk-container-id-1 div.sk-toggleable {background-color: white;}#sk-container-id-1 label.sk-toggleable__label {cursor: pointer;display: block;width: 100%;margin-bottom: 0;padding: 0.3em;box-sizing: border-box;text-align: center;}#sk-container-id-1 label.sk-toggleable__label-arrow:before {content: \"▸\";float: left;margin-right: 0.25em;color: #696969;}#sk-container-id-1 label.sk-toggleable__label-arrow:hover:before {color: black;}#sk-container-id-1 div.sk-estimator:hover label.sk-toggleable__label-arrow:before {color: black;}#sk-container-id-1 div.sk-toggleable__content {max-height: 0;max-width: 0;overflow: hidden;text-align: left;background-color: #f0f8ff;}#sk-container-id-1 div.sk-toggleable__content pre {margin: 0.2em;color: black;border-radius: 0.25em;background-color: #f0f8ff;}#sk-container-id-1 input.sk-toggleable__control:checked~div.sk-toggleable__content {max-height: 200px;max-width: 100%;overflow: auto;}#sk-container-id-1 input.sk-toggleable__control:checked~label.sk-toggleable__label-arrow:before {content: \"▾\";}#sk-container-id-1 div.sk-estimator input.sk-toggleable__control:checked~label.sk-toggleable__label {background-color: #d4ebff;}#sk-container-id-1 div.sk-label input.sk-toggleable__control:checked~label.sk-toggleable__label {background-color: #d4ebff;}#sk-container-id-1 input.sk-hidden--visually {border: 0;clip: rect(1px 1px 1px 1px);clip: rect(1px, 1px, 1px, 1px);height: 1px;margin: -1px;overflow: hidden;padding: 0;position: absolute;width: 1px;}#sk-container-id-1 div.sk-estimator {font-family: monospace;background-color: #f0f8ff;border: 1px dotted black;border-radius: 0.25em;box-sizing: border-box;margin-bottom: 0.5em;}#sk-container-id-1 div.sk-estimator:hover {background-color: #d4ebff;}#sk-container-id-1 div.sk-parallel-item::after {content: \"\";width: 100%;border-bottom: 1px solid gray;flex-grow: 1;}#sk-container-id-1 div.sk-label:hover label.sk-toggleable__label {background-color: #d4ebff;}#sk-container-id-1 div.sk-serial::before {content: \"\";position: absolute;border-left: 1px solid gray;box-sizing: border-box;top: 0;bottom: 0;left: 50%;z-index: 0;}#sk-container-id-1 div.sk-serial {display: flex;flex-direction: column;align-items: center;background-color: white;padding-right: 0.2em;padding-left: 0.2em;position: relative;}#sk-container-id-1 div.sk-item {position: relative;z-index: 1;}#sk-container-id-1 div.sk-parallel {display: flex;align-items: stretch;justify-content: center;background-color: white;position: relative;}#sk-container-id-1 div.sk-item::before, #sk-container-id-1 div.sk-parallel-item::before {content: \"\";position: absolute;border-left: 1px solid gray;box-sizing: border-box;top: 0;bottom: 0;left: 50%;z-index: -1;}#sk-container-id-1 div.sk-parallel-item {display: flex;flex-direction: column;z-index: 1;position: relative;background-color: white;}#sk-container-id-1 div.sk-parallel-item:first-child::after {align-self: flex-end;width: 50%;}#sk-container-id-1 div.sk-parallel-item:last-child::after {align-self: flex-start;width: 50%;}#sk-container-id-1 div.sk-parallel-item:only-child::after {width: 0;}#sk-container-id-1 div.sk-dashed-wrapped {border: 1px dashed gray;margin: 0 0.4em 0.5em 0.4em;box-sizing: border-box;padding-bottom: 0.4em;background-color: white;}#sk-container-id-1 div.sk-label label {font-family: monospace;font-weight: bold;display: inline-block;line-height: 1.2em;}#sk-container-id-1 div.sk-label-container {text-align: center;}#sk-container-id-1 div.sk-container {/* jupyter's `normalize.less` sets `[hidden] { display: none; }` but bootstrap.min.css set `[hidden] { display: none !important; }` so we also need the `!important` here to be able to override the default hidden behavior on the sphinx rendered scikit-learn.org. See: https://github.com/scikit-learn/scikit-learn/issues/21755 */display: inline-block !important;position: relative;}#sk-container-id-1 div.sk-text-repr-fallback {display: none;}</style><div id=\"sk-container-id-1\" class=\"sk-top-container\"><div class=\"sk-text-repr-fallback\"><pre>RandomForestRegressor()</pre><b>In a Jupyter environment, please rerun this cell to show the HTML representation or trust the notebook. <br />On GitHub, the HTML representation is unable to render, please try loading this page with nbviewer.org.</b></div><div class=\"sk-container\" hidden><div class=\"sk-item\"><div class=\"sk-estimator sk-toggleable\"><input class=\"sk-toggleable__control sk-hidden--visually\" id=\"sk-estimator-id-1\" type=\"checkbox\" checked><label for=\"sk-estimator-id-1\" class=\"sk-toggleable__label sk-toggleable__label-arrow\">RandomForestRegressor</label><div class=\"sk-toggleable__content\"><pre>RandomForestRegressor()</pre></div></div></div></div></div>"
      ],
      "text/plain": [
       "RandomForestRegressor()"
      ]
     },
     "execution_count": 21,
     "metadata": {},
     "output_type": "execute_result"
    }
   ],
   "source": [
    "model.fit(x_train,y_train)"
   ]
  },
  {
   "cell_type": "markdown",
   "id": "21e39c4d",
   "metadata": {},
   "source": [
    "### Training accuracy"
   ]
  },
  {
   "cell_type": "code",
   "execution_count": 22,
   "id": "cda33c55",
   "metadata": {},
   "outputs": [
    {
     "data": {
      "text/plain": [
       "0.9572393012318142"
      ]
     },
     "execution_count": 22,
     "metadata": {},
     "output_type": "execute_result"
    }
   ],
   "source": [
    "model.score(x_train,y_train)"
   ]
  },
  {
   "cell_type": "markdown",
   "id": "b85c8cce",
   "metadata": {},
   "source": [
    "### Testing accuracy"
   ]
  },
  {
   "cell_type": "code",
   "execution_count": 23,
   "id": "40ba3a4c",
   "metadata": {},
   "outputs": [
    {
     "data": {
      "text/plain": [
       "0.9905124333676782"
      ]
     },
     "execution_count": 23,
     "metadata": {},
     "output_type": "execute_result"
    }
   ],
   "source": [
    "model.score(x_test,y_test)"
   ]
  },
  {
   "cell_type": "code",
   "execution_count": 24,
   "id": "fe93e317",
   "metadata": {},
   "outputs": [],
   "source": [
    " y_pred = model.predict(x_test)"
   ]
  },
  {
   "cell_type": "code",
   "execution_count": 25,
   "id": "88240d22",
   "metadata": {},
   "outputs": [
    {
     "data": {
      "text/plain": [
       "array([7.2165, 7.1529, 6.87  , 8.9784, 2.4   , 7.1505, 0.5592, 5.3733,\n",
       "       1.5426, 5.3733, 7.1235, 5.9139, 7.9206, 7.1424])"
      ]
     },
     "execution_count": 25,
     "metadata": {},
     "output_type": "execute_result"
    }
   ],
   "source": [
    "y_pred"
   ]
  },
  {
   "cell_type": "code",
   "execution_count": 26,
   "id": "c84f710f",
   "metadata": {},
   "outputs": [
    {
     "data": {
      "text/plain": [
       "array([7.2 , 7.17, 6.87, 8.97, 2.37, 7.17, 0.57, 5.37, 1.47, 5.37, 7.47,\n",
       "       5.97, 8.7 , 7.47])"
      ]
     },
     "execution_count": 26,
     "metadata": {},
     "output_type": "execute_result"
    }
   ],
   "source": [
    "y_test"
   ]
  },
  {
   "cell_type": "code",
   "execution_count": 27,
   "id": "2ca2e4eb",
   "metadata": {
    "scrolled": true
   },
   "outputs": [
    {
     "data": {
      "text/plain": [
       "0.9905124333676782"
      ]
     },
     "execution_count": 27,
     "metadata": {},
     "output_type": "execute_result"
    }
   ],
   "source": [
    "r2_score(y_test,y_pred)"
   ]
  },
  {
   "cell_type": "code",
   "execution_count": 28,
   "id": "91686382",
   "metadata": {},
   "outputs": [],
   "source": [
    "models = {\n",
    "    'LinearRegression':LinearRegression(),\n",
    "    'Ridge': Ridge(),\n",
    "    'Lasso': Lasso(),\n",
    "    'SVR':SVR(),\n",
    "    'LinearSVR':LinearSVR(),\n",
    "    'AdaBoostRegressor': AdaBoostRegressor(),\n",
    "    'GradientBoostingRegressor': GradientBoostingRegressor(),\n",
    "    'RandomForestRegressor': RandomForestRegressor()\n",
    "}"
   ]
  },
  {
   "cell_type": "code",
   "execution_count": 29,
   "id": "817b6a39",
   "metadata": {},
   "outputs": [
    {
     "name": "stdout",
     "output_type": "stream",
     "text": [
      "model trained withLinearRegression\n",
      "Training score:  60.13922859478149\n",
      "Testing score:  85.7670867760715\n",
      "r2_score:  0.857670867760715\n",
      "mean_absolute_error:  0.6656857611148511\n",
      "mean_squared_error:  0.9057997351602015\n",
      "Root_mean_squared_error:  0.951735118171123\n",
      "********************************************************************************\n",
      "model trained withRidge\n",
      "Training score:  60.09990928954263\n",
      "Testing score:  85.45548232898794\n",
      "r2_score:  0.8545548232898794\n",
      "mean_absolute_error:  0.6958672221067204\n",
      "mean_squared_error:  0.9256306173697907\n",
      "Root_mean_squared_error:  0.9620969895856606\n",
      "********************************************************************************\n",
      "model trained withLasso\n",
      "Training score:  42.82473546431921\n",
      "Testing score:  55.82403800418321\n",
      "r2_score:  0.5582403800418321\n",
      "mean_absolute_error:  1.5198997183018446\n",
      "mean_squared_error:  2.811411412878223\n",
      "Root_mean_squared_error:  1.6767263977400197\n",
      "********************************************************************************\n",
      "model trained withSVR\n",
      "Training score:  80.2400403095852\n",
      "Testing score:  92.80446620403441\n",
      "r2_score:  0.9280446620403442\n",
      "mean_absolute_error:  0.3102282453677529\n",
      "mean_squared_error:  0.4579324347853304\n",
      "Root_mean_squared_error:  0.6767070524128815\n",
      "********************************************************************************\n",
      "model trained withLinearSVR\n",
      "Training score:  47.47037323781795\n",
      "Testing score:  100.0\n",
      "r2_score:  1.0\n",
      "mean_absolute_error:  6.270856849661349e-13\n",
      "mean_squared_error:  5.156444104636453e-25\n",
      "Root_mean_squared_error:  7.180838464021074e-13\n",
      "********************************************************************************\n",
      "model trained withAdaBoostRegressor\n",
      "Training score:  99.46982696415469\n",
      "Testing score:  98.45082048026713\n",
      "r2_score:  0.9845082048026713\n",
      "mean_absolute_error:  0.25282810602501543\n",
      "mean_squared_error:  0.09859164997440507\n",
      "Root_mean_squared_error:  0.3139930731312477\n",
      "********************************************************************************\n",
      "model trained withGradientBoostingRegressor\n",
      "Training score:  99.99958531438385\n",
      "Testing score:  99.8989589840707\n",
      "r2_score:  0.9989895898407071\n",
      "mean_absolute_error:  0.036967006104901015\n",
      "mean_squared_error:  0.006430371915371816\n",
      "Root_mean_squared_error:  0.08018959979555838\n",
      "********************************************************************************\n",
      "model trained withRandomForestRegressor\n",
      "Training score:  95.69151198453449\n",
      "Testing score:  98.06612989306446\n",
      "r2_score:  0.9806612989306446\n",
      "mean_absolute_error:  0.17934999999999576\n",
      "mean_squared_error:  0.12307382214285346\n",
      "Root_mean_squared_error:  0.35081878818394757\n",
      "********************************************************************************\n"
     ]
    }
   ],
   "source": [
    "for name,model in models.items():\n",
    "    model.fit(x_train,y_train)\n",
    "    print('model trained with{}'.format(name))\n",
    "    training_score = model.score(x_train,y_train)*100\n",
    "    testing_score = model.score(x_test,y_test)*100\n",
    "    y_pred = model.predict(x_test)\n",
    "    score = r2_score(y_test,y_pred)\n",
    "    mae = mean_absolute_error(y_test,y_pred)\n",
    "    mse = mean_squared_error(y_test,y_pred)\n",
    "    rmse = np.sqrt(mse)\n",
    "    print('Training score: ',training_score)\n",
    "    print('Testing score: ', testing_score)\n",
    "    print('r2_score: ',score)\n",
    "    print('mean_absolute_error: ',mae)\n",
    "    print('mean_squared_error: ',mse)\n",
    "    print('Root_mean_squared_error: ',rmse)\n",
    "    print('*'*80)"
   ]
  },
  {
   "cell_type": "code",
   "execution_count": 52,
   "id": "3e0547ef",
   "metadata": {},
   "outputs": [],
   "source": [
    "model = GradientBoostingRegressor()"
   ]
  },
  {
   "cell_type": "code",
   "execution_count": 53,
   "id": "36652467",
   "metadata": {},
   "outputs": [
    {
     "data": {
      "text/html": [
       "<style>#sk-container-id-4 {color: black;background-color: white;}#sk-container-id-4 pre{padding: 0;}#sk-container-id-4 div.sk-toggleable {background-color: white;}#sk-container-id-4 label.sk-toggleable__label {cursor: pointer;display: block;width: 100%;margin-bottom: 0;padding: 0.3em;box-sizing: border-box;text-align: center;}#sk-container-id-4 label.sk-toggleable__label-arrow:before {content: \"▸\";float: left;margin-right: 0.25em;color: #696969;}#sk-container-id-4 label.sk-toggleable__label-arrow:hover:before {color: black;}#sk-container-id-4 div.sk-estimator:hover label.sk-toggleable__label-arrow:before {color: black;}#sk-container-id-4 div.sk-toggleable__content {max-height: 0;max-width: 0;overflow: hidden;text-align: left;background-color: #f0f8ff;}#sk-container-id-4 div.sk-toggleable__content pre {margin: 0.2em;color: black;border-radius: 0.25em;background-color: #f0f8ff;}#sk-container-id-4 input.sk-toggleable__control:checked~div.sk-toggleable__content {max-height: 200px;max-width: 100%;overflow: auto;}#sk-container-id-4 input.sk-toggleable__control:checked~label.sk-toggleable__label-arrow:before {content: \"▾\";}#sk-container-id-4 div.sk-estimator input.sk-toggleable__control:checked~label.sk-toggleable__label {background-color: #d4ebff;}#sk-container-id-4 div.sk-label input.sk-toggleable__control:checked~label.sk-toggleable__label {background-color: #d4ebff;}#sk-container-id-4 input.sk-hidden--visually {border: 0;clip: rect(1px 1px 1px 1px);clip: rect(1px, 1px, 1px, 1px);height: 1px;margin: -1px;overflow: hidden;padding: 0;position: absolute;width: 1px;}#sk-container-id-4 div.sk-estimator {font-family: monospace;background-color: #f0f8ff;border: 1px dotted black;border-radius: 0.25em;box-sizing: border-box;margin-bottom: 0.5em;}#sk-container-id-4 div.sk-estimator:hover {background-color: #d4ebff;}#sk-container-id-4 div.sk-parallel-item::after {content: \"\";width: 100%;border-bottom: 1px solid gray;flex-grow: 1;}#sk-container-id-4 div.sk-label:hover label.sk-toggleable__label {background-color: #d4ebff;}#sk-container-id-4 div.sk-serial::before {content: \"\";position: absolute;border-left: 1px solid gray;box-sizing: border-box;top: 0;bottom: 0;left: 50%;z-index: 0;}#sk-container-id-4 div.sk-serial {display: flex;flex-direction: column;align-items: center;background-color: white;padding-right: 0.2em;padding-left: 0.2em;position: relative;}#sk-container-id-4 div.sk-item {position: relative;z-index: 1;}#sk-container-id-4 div.sk-parallel {display: flex;align-items: stretch;justify-content: center;background-color: white;position: relative;}#sk-container-id-4 div.sk-item::before, #sk-container-id-4 div.sk-parallel-item::before {content: \"\";position: absolute;border-left: 1px solid gray;box-sizing: border-box;top: 0;bottom: 0;left: 50%;z-index: -1;}#sk-container-id-4 div.sk-parallel-item {display: flex;flex-direction: column;z-index: 1;position: relative;background-color: white;}#sk-container-id-4 div.sk-parallel-item:first-child::after {align-self: flex-end;width: 50%;}#sk-container-id-4 div.sk-parallel-item:last-child::after {align-self: flex-start;width: 50%;}#sk-container-id-4 div.sk-parallel-item:only-child::after {width: 0;}#sk-container-id-4 div.sk-dashed-wrapped {border: 1px dashed gray;margin: 0 0.4em 0.5em 0.4em;box-sizing: border-box;padding-bottom: 0.4em;background-color: white;}#sk-container-id-4 div.sk-label label {font-family: monospace;font-weight: bold;display: inline-block;line-height: 1.2em;}#sk-container-id-4 div.sk-label-container {text-align: center;}#sk-container-id-4 div.sk-container {/* jupyter's `normalize.less` sets `[hidden] { display: none; }` but bootstrap.min.css set `[hidden] { display: none !important; }` so we also need the `!important` here to be able to override the default hidden behavior on the sphinx rendered scikit-learn.org. See: https://github.com/scikit-learn/scikit-learn/issues/21755 */display: inline-block !important;position: relative;}#sk-container-id-4 div.sk-text-repr-fallback {display: none;}</style><div id=\"sk-container-id-4\" class=\"sk-top-container\"><div class=\"sk-text-repr-fallback\"><pre>GradientBoostingRegressor()</pre><b>In a Jupyter environment, please rerun this cell to show the HTML representation or trust the notebook. <br />On GitHub, the HTML representation is unable to render, please try loading this page with nbviewer.org.</b></div><div class=\"sk-container\" hidden><div class=\"sk-item\"><div class=\"sk-estimator sk-toggleable\"><input class=\"sk-toggleable__control sk-hidden--visually\" id=\"sk-estimator-id-4\" type=\"checkbox\" checked><label for=\"sk-estimator-id-4\" class=\"sk-toggleable__label sk-toggleable__label-arrow\">GradientBoostingRegressor</label><div class=\"sk-toggleable__content\"><pre>GradientBoostingRegressor()</pre></div></div></div></div></div>"
      ],
      "text/plain": [
       "GradientBoostingRegressor()"
      ]
     },
     "execution_count": 53,
     "metadata": {},
     "output_type": "execute_result"
    }
   ],
   "source": [
    "model.fit(x_train, y_train)"
   ]
  },
  {
   "cell_type": "code",
   "execution_count": 54,
   "id": "889fd703",
   "metadata": {},
   "outputs": [],
   "source": [
    "y_pred = model.predict(x_test)"
   ]
  },
  {
   "cell_type": "markdown",
   "id": "62f9c6cb",
   "metadata": {},
   "source": [
    "### Training score"
   ]
  },
  {
   "cell_type": "code",
   "execution_count": 55,
   "id": "aedb7567",
   "metadata": {},
   "outputs": [
    {
     "data": {
      "text/plain": [
       "0.9999958531438385"
      ]
     },
     "execution_count": 55,
     "metadata": {},
     "output_type": "execute_result"
    }
   ],
   "source": [
    "model.score(x_train,y_train)"
   ]
  },
  {
   "cell_type": "markdown",
   "id": "3e751e81",
   "metadata": {},
   "source": [
    "### Testing accuracy"
   ]
  },
  {
   "cell_type": "code",
   "execution_count": 56,
   "id": "9e9ff0dd",
   "metadata": {},
   "outputs": [
    {
     "data": {
      "text/plain": [
       "0.9990139040695472"
      ]
     },
     "execution_count": 56,
     "metadata": {},
     "output_type": "execute_result"
    }
   ],
   "source": [
    "model.score(x_test,y_test)"
   ]
  },
  {
   "cell_type": "code",
   "execution_count": 87,
   "id": "d4a1b1ab",
   "metadata": {},
   "outputs": [
    {
     "data": {
      "text/html": [
       "<div>\n",
       "<style scoped>\n",
       "    .dataframe tbody tr th:only-of-type {\n",
       "        vertical-align: middle;\n",
       "    }\n",
       "\n",
       "    .dataframe tbody tr th {\n",
       "        vertical-align: top;\n",
       "    }\n",
       "\n",
       "    .dataframe thead th {\n",
       "        text-align: right;\n",
       "    }\n",
       "</style>\n",
       "<table border=\"1\" class=\"dataframe\">\n",
       "  <thead>\n",
       "    <tr style=\"text-align: right;\">\n",
       "      <th></th>\n",
       "      <th>ACTUAL</th>\n",
       "      <th>PREDICTION</th>\n",
       "    </tr>\n",
       "  </thead>\n",
       "  <tbody>\n",
       "    <tr>\n",
       "      <th>0</th>\n",
       "      <td>7.20</td>\n",
       "      <td>7.225104</td>\n",
       "    </tr>\n",
       "    <tr>\n",
       "      <th>1</th>\n",
       "      <td>7.17</td>\n",
       "      <td>7.349398</td>\n",
       "    </tr>\n",
       "    <tr>\n",
       "      <th>2</th>\n",
       "      <td>6.87</td>\n",
       "      <td>6.869648</td>\n",
       "    </tr>\n",
       "    <tr>\n",
       "      <th>3</th>\n",
       "      <td>8.97</td>\n",
       "      <td>8.972593</td>\n",
       "    </tr>\n",
       "    <tr>\n",
       "      <th>4</th>\n",
       "      <td>2.37</td>\n",
       "      <td>2.370514</td>\n",
       "    </tr>\n",
       "    <tr>\n",
       "      <th>5</th>\n",
       "      <td>7.17</td>\n",
       "      <td>7.225104</td>\n",
       "    </tr>\n",
       "    <tr>\n",
       "      <th>6</th>\n",
       "      <td>0.57</td>\n",
       "      <td>0.571262</td>\n",
       "    </tr>\n",
       "    <tr>\n",
       "      <th>7</th>\n",
       "      <td>5.37</td>\n",
       "      <td>5.369995</td>\n",
       "    </tr>\n",
       "    <tr>\n",
       "      <th>8</th>\n",
       "      <td>1.47</td>\n",
       "      <td>1.470762</td>\n",
       "    </tr>\n",
       "    <tr>\n",
       "      <th>9</th>\n",
       "      <td>5.37</td>\n",
       "      <td>5.369995</td>\n",
       "    </tr>\n",
       "    <tr>\n",
       "      <th>10</th>\n",
       "      <td>7.47</td>\n",
       "      <td>7.242482</td>\n",
       "    </tr>\n",
       "    <tr>\n",
       "      <th>11</th>\n",
       "      <td>5.97</td>\n",
       "      <td>5.969717</td>\n",
       "    </tr>\n",
       "    <tr>\n",
       "      <th>12</th>\n",
       "      <td>8.70</td>\n",
       "      <td>8.695192</td>\n",
       "    </tr>\n",
       "    <tr>\n",
       "      <th>13</th>\n",
       "      <td>7.47</td>\n",
       "      <td>7.455459</td>\n",
       "    </tr>\n",
       "  </tbody>\n",
       "</table>\n",
       "</div>"
      ],
      "text/plain": [
       "    ACTUAL  PREDICTION\n",
       "0     7.20    7.225104\n",
       "1     7.17    7.349398\n",
       "2     6.87    6.869648\n",
       "3     8.97    8.972593\n",
       "4     2.37    2.370514\n",
       "5     7.17    7.225104\n",
       "6     0.57    0.571262\n",
       "7     5.37    5.369995\n",
       "8     1.47    1.470762\n",
       "9     5.37    5.369995\n",
       "10    7.47    7.242482\n",
       "11    5.97    5.969717\n",
       "12    8.70    8.695192\n",
       "13    7.47    7.455459"
      ]
     },
     "execution_count": 87,
     "metadata": {},
     "output_type": "execute_result"
    }
   ],
   "source": [
    "OUTPUT = pd.DataFrame(zip(y_test, y_pred), columns=['ACTUAL', 'PREDICTION'], dtype=float)\n",
    "OUTPUT"
   ]
  },
  {
   "cell_type": "code",
   "execution_count": 88,
   "id": "98c09497",
   "metadata": {},
   "outputs": [
    {
     "data": {
      "image/png": "[encoded data removed]",
      "text/plain": [
       "<Figure size 640x480 with 1 Axes>"
      ]
     },
     "metadata": {},
     "output_type": "display_data"
    }
   ],
   "source": [
    "sns.regplot(data=OUTPUT, x='ACTUAL',  y = 'PREDICTION')\n",
    "plt.show()"
   ]
  },
  {
   "cell_type": "code",
   "execution_count": 89,
   "id": "658cac8d",
   "metadata": {},
   "outputs": [],
   "source": [
    "OUTPUT['ERROR'] = OUTPUT.ACTUAL- OUTPUT.PREDICTION"
   ]
  },
  {
   "cell_type": "code",
   "execution_count": 90,
   "id": "87444d5c",
   "metadata": {},
   "outputs": [
    {
     "data": {
      "text/html": [
       "<div>\n",
       "<style scoped>\n",
       "    .dataframe tbody tr th:only-of-type {\n",
       "        vertical-align: middle;\n",
       "    }\n",
       "\n",
       "    .dataframe tbody tr th {\n",
       "        vertical-align: top;\n",
       "    }\n",
       "\n",
       "    .dataframe thead th {\n",
       "        text-align: right;\n",
       "    }\n",
       "</style>\n",
       "<table border=\"1\" class=\"dataframe\">\n",
       "  <thead>\n",
       "    <tr style=\"text-align: right;\">\n",
       "      <th></th>\n",
       "      <th>ACTUAL</th>\n",
       "      <th>PREDICTION</th>\n",
       "      <th>ERROR</th>\n",
       "    </tr>\n",
       "  </thead>\n",
       "  <tbody>\n",
       "    <tr>\n",
       "      <th>0</th>\n",
       "      <td>7.20</td>\n",
       "      <td>7.225104</td>\n",
       "      <td>-0.025104</td>\n",
       "    </tr>\n",
       "    <tr>\n",
       "      <th>1</th>\n",
       "      <td>7.17</td>\n",
       "      <td>7.349398</td>\n",
       "      <td>-0.179398</td>\n",
       "    </tr>\n",
       "    <tr>\n",
       "      <th>2</th>\n",
       "      <td>6.87</td>\n",
       "      <td>6.869648</td>\n",
       "      <td>0.000352</td>\n",
       "    </tr>\n",
       "    <tr>\n",
       "      <th>3</th>\n",
       "      <td>8.97</td>\n",
       "      <td>8.972593</td>\n",
       "      <td>-0.002593</td>\n",
       "    </tr>\n",
       "    <tr>\n",
       "      <th>4</th>\n",
       "      <td>2.37</td>\n",
       "      <td>2.370514</td>\n",
       "      <td>-0.000514</td>\n",
       "    </tr>\n",
       "    <tr>\n",
       "      <th>5</th>\n",
       "      <td>7.17</td>\n",
       "      <td>7.225104</td>\n",
       "      <td>-0.055104</td>\n",
       "    </tr>\n",
       "    <tr>\n",
       "      <th>6</th>\n",
       "      <td>0.57</td>\n",
       "      <td>0.571262</td>\n",
       "      <td>-0.001262</td>\n",
       "    </tr>\n",
       "    <tr>\n",
       "      <th>7</th>\n",
       "      <td>5.37</td>\n",
       "      <td>5.369995</td>\n",
       "      <td>0.000005</td>\n",
       "    </tr>\n",
       "    <tr>\n",
       "      <th>8</th>\n",
       "      <td>1.47</td>\n",
       "      <td>1.470762</td>\n",
       "      <td>-0.000762</td>\n",
       "    </tr>\n",
       "    <tr>\n",
       "      <th>9</th>\n",
       "      <td>5.37</td>\n",
       "      <td>5.369995</td>\n",
       "      <td>0.000005</td>\n",
       "    </tr>\n",
       "    <tr>\n",
       "      <th>10</th>\n",
       "      <td>7.47</td>\n",
       "      <td>7.242482</td>\n",
       "      <td>0.227518</td>\n",
       "    </tr>\n",
       "    <tr>\n",
       "      <th>11</th>\n",
       "      <td>5.97</td>\n",
       "      <td>5.969717</td>\n",
       "      <td>0.000283</td>\n",
       "    </tr>\n",
       "    <tr>\n",
       "      <th>12</th>\n",
       "      <td>8.70</td>\n",
       "      <td>8.695192</td>\n",
       "      <td>0.004808</td>\n",
       "    </tr>\n",
       "    <tr>\n",
       "      <th>13</th>\n",
       "      <td>7.47</td>\n",
       "      <td>7.455459</td>\n",
       "      <td>0.014541</td>\n",
       "    </tr>\n",
       "  </tbody>\n",
       "</table>\n",
       "</div>"
      ],
      "text/plain": [
       "    ACTUAL  PREDICTION     ERROR\n",
       "0     7.20    7.225104 -0.025104\n",
       "1     7.17    7.349398 -0.179398\n",
       "2     6.87    6.869648  0.000352\n",
       "3     8.97    8.972593 -0.002593\n",
       "4     2.37    2.370514 -0.000514\n",
       "5     7.17    7.225104 -0.055104\n",
       "6     0.57    0.571262 -0.001262\n",
       "7     5.37    5.369995  0.000005\n",
       "8     1.47    1.470762 -0.000762\n",
       "9     5.37    5.369995  0.000005\n",
       "10    7.47    7.242482  0.227518\n",
       "11    5.97    5.969717  0.000283\n",
       "12    8.70    8.695192  0.004808\n",
       "13    7.47    7.455459  0.014541"
      ]
     },
     "execution_count": 90,
     "metadata": {},
     "output_type": "execute_result"
    }
   ],
   "source": [
    "OUTPUT"
   ]
  },
  {
   "cell_type": "code",
   "execution_count": 91,
   "id": "8b25432b",
   "metadata": {},
   "outputs": [
    {
     "data": {
      "image/png": "[encoded data removed]",
      "text/plain": [
       "<Figure size 640x480 with 1 Axes>"
      ]
     },
     "metadata": {},
     "output_type": "display_data"
    }
   ],
   "source": [
    "sns.histplot(data=OUTPUT, x= 'ERROR', kde=True,log_scale=True)\n",
    "plt.show()"
   ]
  },
  {
   "cell_type": "code",
   "execution_count": null,
   "id": "b0d3fc72",
   "metadata": {},
   "outputs": [],
   "source": []
  },
  {
   "cell_type": "code",
   "execution_count": null,
   "id": "32d04cd4",
   "metadata": {},
   "outputs": [],
   "source": []
  }
 ],
 "metadata": {
  "kernelspec": {
   "display_name": "Python 3 (ipykernel)",
   "language": "python",
   "name": "python3"
  },
  "language_info": {
   "codemirror_mode": {
    "name": "ipython",
    "version": 3
   },
   "file_extension": ".py",
   "mimetype": "text/x-python",
   "name": "python",
   "nbconvert_exporter": "python",
   "pygments_lexer": "ipython3",
   "version": "3.10.9"
  }
 },
 "nbformat": 4,
 "nbformat_minor": 5
}
